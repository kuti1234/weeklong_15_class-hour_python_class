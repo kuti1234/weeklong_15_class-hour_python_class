{
 "cells": [
  {
   "cell_type": "markdown",
   "metadata": {},
   "source": [
    "# SymPy"
   ]
  },
  {
   "cell_type": "code",
   "execution_count": 1,
   "metadata": {},
   "outputs": [
    {
     "name": "stdout",
     "output_type": "stream",
     "text": [
      "IPython console for SymPy 1.14.0 (Python 3.13.3-64-bit) (ground types: gmpy)\n",
      "\n",
      "These commands were executed:\n",
      ">>> from sympy import *\n",
      ">>> x, y, z, t = symbols('x y z t')\n",
      ">>> k, m, n = symbols('k m n', integer=True)\n",
      ">>> f, g, h = symbols('f g h', cls=Function)\n",
      ">>> init_printing()\n",
      "\n",
      "Documentation can be found at https://docs.sympy.org/1.14.0/\n",
      "\n"
     ]
    }
   ],
   "source": [
    "# initialize \n",
    "# to initialize displaying webpages within the notebook\n",
    "from IPython.display import IFrame\n",
    "# to initialize sympy from ipython:\n",
    "from sympy import init_session\n",
    "init_session()\n",
    "# to initialize sympy from the bash shell:\n",
    "# isympy"
   ]
  },
  {
   "cell_type": "code",
   "execution_count": 2,
   "metadata": {},
   "outputs": [],
   "source": [
    "# according to sympy documentation, sympy included the python library mpmath for arbitrary-precision math.\n",
    "# if you need arbitrary-precision math or if you are running older sympy scripts that invoke mpmath via sympy.mpmath,\n",
    "# you need to import mpmath directly:\n",
    "# http://mpmath.org/"
   ]
  },
  {
   "cell_type": "code",
   "execution_count": 3,
   "metadata": {},
   "outputs": [
    {
     "data": {
      "text/html": [
       "\n",
       "        <iframe\n",
       "            width=\"100%\"\n",
       "            height=\"500\"\n",
       "            src=\"https://www.sympy.org/en/index.html\"\n",
       "            frameborder=\"0\"\n",
       "            allowfullscreen\n",
       "            \n",
       "        ></iframe>\n",
       "        "
      ],
      "text/plain": [
       "<IPython.lib.display.IFrame at 0x7348304252b0>"
      ]
     },
     "execution_count": 3,
     "metadata": {},
     "output_type": "execute_result"
    }
   ],
   "source": [
    "IFrame('https://www.sympy.org/en/index.html', width='100%', height=500) "
   ]
  },
  {
   "cell_type": "code",
   "execution_count": 4,
   "metadata": {},
   "outputs": [
    {
     "data": {
      "text/html": [
       "\n",
       "        <iframe\n",
       "            width=\"100%\"\n",
       "            height=\"500\"\n",
       "            src=\"https://docs.sympy.org/latest/modules/core.html\"\n",
       "            frameborder=\"0\"\n",
       "            allowfullscreen\n",
       "            \n",
       "        ></iframe>\n",
       "        "
      ],
      "text/plain": [
       "<IPython.lib.display.IFrame at 0x7347d3e7d1d0>"
      ]
     },
     "execution_count": 4,
     "metadata": {},
     "output_type": "execute_result"
    }
   ],
   "source": [
    "# a word about the sympy live shell at sympy.org...\n",
    "IFrame('https://docs.sympy.org/latest/modules/core.html', width='100%', height=500) "
   ]
  },
  {
   "cell_type": "code",
   "execution_count": 5,
   "metadata": {},
   "outputs": [
    {
     "name": "stdout",
     "output_type": "stream",
     "text": [
      "Variable                         Type                      Data/Info\n",
      "--------------------------------------------------------------------\n",
      "Abs                              FunctionClass             Abs\n",
      "AccumBounds                      type                      <class 'sympy.calculus.ac<...>unds.AccumulationBounds'>\n",
      "Add                              type                      <class 'sympy.core.add.Add'>\n",
      "Adjoint                          type                      <class 'sympy.matrices.ex<...>essions.adjoint.Adjoint'>\n",
      "AlgebraicField                   type                      <class 'sympy.polys.domai<...>aicfield.AlgebraicField'>\n",
      "AlgebraicNumber                  type                      <class 'sympy.core.numbers.AlgebraicNumber'>\n",
      "And                              FunctionClass             And\n",
      "AppliedPredicate                 type                      <class 'sympy.assumptions<...>assume.AppliedPredicate'>\n",
      "Array                            type                      <class 'sympy.tensor.arra<...>ImmutableDenseNDimArray'>\n",
      "AssumptionsContext               type                      <class 'sympy.assumptions<...>sume.AssumptionsContext'>\n",
      "Atom                             type                      <class 'sympy.core.basic.Atom'>\n",
      "AtomicExpr                       type                      <class 'sympy.core.expr.AtomicExpr'>\n",
      "BasePolynomialError              type                      <class 'sympy.polys.polye<...>ors.BasePolynomialError'>\n",
      "Basic                            type                      <class 'sympy.core.basic.Basic'>\n",
      "BlockDiagMatrix                  type                      <class 'sympy.matrices.ex<...>kmatrix.BlockDiagMatrix'>\n",
      "BlockMatrix                      type                      <class 'sympy.matrices.ex<...>blockmatrix.BlockMatrix'>\n",
      "CC                               ComplexField              CC\n",
      "CRootOf                          type                      <class 'sympy.polys.rootoftools.ComplexRootOf'>\n",
      "Catalan                          Catalan                   Catalan\n",
      "Chi                              FunctionClass             Chi\n",
      "Ci                               FunctionClass             Ci\n",
      "Circle                           type                      <class 'sympy.geometry.ellipse.Circle'>\n",
      "CoercionFailed                   type                      <class 'sympy.polys.polyerrors.CoercionFailed'>\n",
      "Complement                       type                      <class 'sympy.sets.sets.Complement'>\n",
      "ComplexField                     type                      <class 'sympy.polys.domai<...>mplexfield.ComplexField'>\n",
      "ComplexRegion                    type                      <class 'sympy.sets.fancysets.ComplexRegion'>\n",
      "ComplexRootOf                    type                      <class 'sympy.polys.rootoftools.ComplexRootOf'>\n",
      "Complexes                        Complexes                 Complexes\n",
      "ComputationFailed                type                      <class 'sympy.polys.polye<...>rrors.ComputationFailed'>\n",
      "ConditionSet                     type                      <class 'sympy.sets.conditionset.ConditionSet'>\n",
      "Contains                         type                      <class 'sympy.sets.contains.Contains'>\n",
      "CosineTransform                  FunctionClass             CosineTransform\n",
      "Curve                            type                      <class 'sympy.geometry.curve.Curve'>\n",
      "DeferredVector                   type                      <class 'sympy.matrices.ma<...>trixbase.DeferredVector'>\n",
      "DenseNDimArray                   type                      <class 'sympy.tensor.arra<...>im_array.DenseNDimArray'>\n",
      "Derivative                       type                      <class 'sympy.core.function.Derivative'>\n",
      "Determinant                      type                      <class 'sympy.matrices.ex<...>determinant.Determinant'>\n",
      "DiagMatrix                       type                      <class 'sympy.matrices.ex<...>ons.diagonal.DiagMatrix'>\n",
      "DiagonalMatrix                   type                      <class 'sympy.matrices.ex<...>diagonal.DiagonalMatrix'>\n",
      "DiagonalOf                       type                      <class 'sympy.matrices.ex<...>ons.diagonal.DiagonalOf'>\n",
      "Dict                             type                      <class 'sympy.core.containers.Dict'>\n",
      "DiracDelta                       FunctionClass             DiracDelta\n",
      "DisjointUnion                    type                      <class 'sympy.sets.sets.DisjointUnion'>\n",
      "Domain                           type                      <class 'sympy.polys.domains.domain.Domain'>\n",
      "DomainError                      type                      <class 'sympy.polys.polyerrors.DomainError'>\n",
      "DotProduct                       type                      <class 'sympy.matrices.ex<...>s.dotproduct.DotProduct'>\n",
      "Dummy                            type                      <class 'sympy.core.symbol.Dummy'>\n",
      "E                                Exp1                      E\n",
      "E1                               function                  <function E1 at 0x7348167edc60>\n",
      "EPath                            type                      <class 'sympy.simplify.epathtools.EPath'>\n",
      "EX                               ExpressionDomain          EX\n",
      "EXRAW                            ExpressionRawDomain       EXRAW\n",
      "Ei                               FunctionClass             Ei\n",
      "Eijk                             function                  <function Eijk at 0x73481665a340>\n",
      "Ellipse                          type                      <class 'sympy.geometry.ellipse.Ellipse'>\n",
      "EmptySequence                    EmptySequence             EmptySequence\n",
      "EmptySet                         EmptySet                  EmptySet\n",
      "Eq                               type                      <class 'sympy.core.relational.Equality'>\n",
      "Equality                         type                      <class 'sympy.core.relational.Equality'>\n",
      "Equivalent                       FunctionClass             Equivalent\n",
      "EulerGamma                       EulerGamma                EulerGamma\n",
      "EvaluationFailed                 type                      <class 'sympy.polys.polyerrors.EvaluationFailed'>\n",
      "ExactQuotientFailed              type                      <class 'sympy.polys.polye<...>ors.ExactQuotientFailed'>\n",
      "Expr                             type                      <class 'sympy.core.expr.Expr'>\n",
      "ExpressionDomain                 type                      <class 'sympy.polys.domai<...>domain.ExpressionDomain'>\n",
      "ExtraneousFactors                type                      <class 'sympy.polys.polye<...>rrors.ExtraneousFactors'>\n",
      "FF                               type                      <class 'sympy.polys.domai<...>finitefield.FiniteField'>\n",
      "FF_gmpy                          type                      <class 'sympy.polys.domai<...>tefield.GMPYFiniteField'>\n",
      "FF_python                        type                      <class 'sympy.polys.domai<...>field.PythonFiniteField'>\n",
      "FU                               dict                      n=24\n",
      "FallingFactorial                 FunctionClass             FallingFactorial\n",
      "FiniteField                      type                      <class 'sympy.polys.domai<...>finitefield.FiniteField'>\n",
      "FiniteSet                        type                      <class 'sympy.sets.sets.FiniteSet'>\n",
      "FlagError                        type                      <class 'sympy.polys.polyerrors.FlagError'>\n",
      "Float                            type                      <class 'sympy.core.numbers.Float'>\n",
      "FourierTransform                 FunctionClass             FourierTransform\n",
      "FractionField                    type                      <class 'sympy.polys.domai<...>tionfield.FractionField'>\n",
      "Function                         FunctionClass             Function\n",
      "FunctionClass                    type                      <class 'sympy.core.function.FunctionClass'>\n",
      "FunctionMatrix                   type                      <class 'sympy.matrices.ex<...>ncmatrix.FunctionMatrix'>\n",
      "GF                               type                      <class 'sympy.polys.domai<...>finitefield.FiniteField'>\n",
      "GMPYFiniteField                  type                      <class 'sympy.polys.domai<...>tefield.GMPYFiniteField'>\n",
      "GMPYIntegerRing                  type                      <class 'sympy.polys.domai<...>gerring.GMPYIntegerRing'>\n",
      "GMPYRationalField                type                      <class 'sympy.polys.domai<...>field.GMPYRationalField'>\n",
      "Ge                               type                      <class 'sympy.core.relational.GreaterThan'>\n",
      "GeneratorsError                  type                      <class 'sympy.polys.polyerrors.GeneratorsError'>\n",
      "GeneratorsNeeded                 type                      <class 'sympy.polys.polyerrors.GeneratorsNeeded'>\n",
      "GeometryError                    type                      <class 'sympy.geometry.exceptions.GeometryError'>\n",
      "GoldenRatio                      GoldenRatio               GoldenRatio\n",
      "GramSchmidt                      function                  <function GramSchmidt at 0x7348163fbec0>\n",
      "GreaterThan                      type                      <class 'sympy.core.relational.GreaterThan'>\n",
      "GroebnerBasis                    type                      <class 'sympy.polys.polytools.GroebnerBasis'>\n",
      "Gt                               type                      <class 'sympy.core.relational.StrictGreaterThan'>\n",
      "HadamardPower                    type                      <class 'sympy.matrices.ex<...>.hadamard.HadamardPower'>\n",
      "HadamardProduct                  type                      <class 'sympy.matrices.ex<...>adamard.HadamardProduct'>\n",
      "HankelTransform                  FunctionClass             HankelTransform\n",
      "Heaviside                        FunctionClass             Heaviside\n",
      "HeuristicGCDFailed               type                      <class 'sympy.polys.polye<...>rors.HeuristicGCDFailed'>\n",
      "HomomorphismFailed               type                      <class 'sympy.polys.polye<...>rors.HomomorphismFailed'>\n",
      "I                                ImaginaryUnit             I\n",
      "IFrame                           type                      <class 'IPython.lib.display.IFrame'>\n",
      "ITE                              FunctionClass             ITE\n",
      "Id                               IdentityFunction          Lambda(_x, _x)\n",
      "Identity                         type                      <class 'sympy.matrices.ex<...>ssions.special.Identity'>\n",
      "Idx                              type                      <class 'sympy.tensor.indexed.Idx'>\n",
      "ImageSet                         type                      <class 'sympy.sets.fancysets.ImageSet'>\n",
      "ImmutableDenseMatrix             type                      <class 'sympy.matrices.im<...>le.ImmutableDenseMatrix'>\n",
      "ImmutableDenseNDimArray          type                      <class 'sympy.tensor.arra<...>ImmutableDenseNDimArray'>\n",
      "ImmutableMatrix                  type                      <class 'sympy.matrices.im<...>le.ImmutableDenseMatrix'>\n",
      "ImmutableSparseMatrix            type                      <class 'sympy.matrices.im<...>e.ImmutableSparseMatrix'>\n",
      "ImmutableSparseNDimArray         type                      <class 'sympy.tensor.arra<...>mmutableSparseNDimArray'>\n",
      "Implies                          FunctionClass             Implies\n",
      "Indexed                          type                      <class 'sympy.tensor.indexed.Indexed'>\n",
      "IndexedBase                      type                      <class 'sympy.tensor.indexed.IndexedBase'>\n",
      "Integer                          type                      <class 'sympy.core.numbers.Integer'>\n",
      "IntegerRing                      type                      <class 'sympy.polys.domai<...>integerring.IntegerRing'>\n",
      "Integers                         Integers                  Integers\n",
      "Integral                         type                      <class 'sympy.integrals.integrals.Integral'>\n",
      "Intersection                     type                      <class 'sympy.sets.sets.Intersection'>\n",
      "Interval                         type                      <class 'sympy.sets.sets.Interval'>\n",
      "Inverse                          type                      <class 'sympy.matrices.ex<...>essions.inverse.Inverse'>\n",
      "InverseCosineTransform           FunctionClass             InverseCosineTransform\n",
      "InverseFourierTransform          FunctionClass             InverseFourierTransform\n",
      "InverseHankelTransform           FunctionClass             InverseHankelTransform\n",
      "InverseLaplaceTransform          FunctionClass             InverseLaplaceTransform\n",
      "InverseMellinTransform           FunctionClass             InverseMellinTransform\n",
      "InverseSineTransform             FunctionClass             InverseSineTransform\n",
      "IsomorphismFailed                type                      <class 'sympy.polys.polye<...>rrors.IsomorphismFailed'>\n",
      "KroneckerDelta                   FunctionClass             KroneckerDelta\n",
      "KroneckerProduct                 type                      <class 'sympy.matrices.ex<...>necker.KroneckerProduct'>\n",
      "LC                               function                  <function LC at 0x734816aa1f80>\n",
      "LM                               function                  <function LM at 0x734816aa2020>\n",
      "LT                               function                  <function LT at 0x734816aa20c0>\n",
      "Lambda                           type                      <class 'sympy.core.function.Lambda'>\n",
      "LambertW                         FunctionClass             LambertW\n",
      "LaplaceTransform                 FunctionClass             LaplaceTransform\n",
      "Le                               type                      <class 'sympy.core.relational.LessThan'>\n",
      "LessThan                         type                      <class 'sympy.core.relational.LessThan'>\n",
      "LeviCivita                       FunctionClass             LeviCivita\n",
      "Li                               FunctionClass             Li\n",
      "Limit                            type                      <class 'sympy.series.limits.Limit'>\n",
      "Line                             type                      <class 'sympy.geometry.line.Line'>\n",
      "Line2D                           type                      <class 'sympy.geometry.line.Line2D'>\n",
      "Line3D                           type                      <class 'sympy.geometry.line.Line3D'>\n",
      "Lt                               type                      <class 'sympy.core.relational.StrictLessThan'>\n",
      "MatAdd                           type                      <class 'sympy.matrices.ex<...>pressions.matadd.MatAdd'>\n",
      "MatMul                           type                      <class 'sympy.matrices.ex<...>pressions.matmul.MatMul'>\n",
      "MatPow                           type                      <class 'sympy.matrices.ex<...>pressions.matpow.MatPow'>\n",
      "Matrix                           type                      <class 'sympy.matrices.dense.MutableDenseMatrix'>\n",
      "MatrixBase                       type                      <class 'sympy.matrices.matrixbase.MatrixBase'>\n",
      "MatrixExpr                       type                      <class 'sympy.matrices.ex<...>ions.matexpr.MatrixExpr'>\n",
      "MatrixPermute                    type                      <class 'sympy.matrices.ex<...>rmutation.MatrixPermute'>\n",
      "MatrixSlice                      type                      <class 'sympy.matrices.ex<...>sions.slice.MatrixSlice'>\n",
      "MatrixSymbol                     type                      <class 'sympy.matrices.ex<...>ns.matexpr.MatrixSymbol'>\n",
      "Max                              FunctionClass             Max\n",
      "MellinTransform                  FunctionClass             MellinTransform\n",
      "Min                              FunctionClass             Min\n",
      "Mod                              FunctionClass             Mod\n",
      "Monomial                         type                      <class 'sympy.polys.monomials.Monomial'>\n",
      "Mul                              type                      <class 'sympy.core.mul.Mul'>\n",
      "MultivariatePolynomialError      type                      <class 'sympy.polys.polye<...>ivariatePolynomialError'>\n",
      "MutableDenseMatrix               type                      <class 'sympy.matrices.dense.MutableDenseMatrix'>\n",
      "MutableDenseNDimArray            type                      <class 'sympy.tensor.arra<...>y.MutableDenseNDimArray'>\n",
      "MutableMatrix                    type                      <class 'sympy.matrices.dense.MutableDenseMatrix'>\n",
      "MutableSparseMatrix              type                      <class 'sympy.matrices.sp<...>rse.MutableSparseMatrix'>\n",
      "MutableSparseNDimArray           type                      <class 'sympy.tensor.arra<...>.MutableSparseNDimArray'>\n",
      "N                                function                  <function N at 0x734816eaa8e0>\n",
      "NDimArray                        type                      <class 'sympy.tensor.array.ndim_array.NDimArray'>\n",
      "Nand                             FunctionClass             Nand\n",
      "Naturals                         Naturals                  Naturals\n",
      "Naturals0                        Naturals0                 Naturals0\n",
      "Ne                               type                      <class 'sympy.core.relational.Unequality'>\n",
      "NonSquareMatrixError             type                      <class 'sympy.matrices.ex<...>ns.NonSquareMatrixError'>\n",
      "Nor                              FunctionClass             Nor\n",
      "Not                              FunctionClass             Not\n",
      "NotAlgebraic                     type                      <class 'sympy.polys.polyerrors.NotAlgebraic'>\n",
      "NotInvertible                    type                      <class 'sympy.polys.polyerrors.NotInvertible'>\n",
      "NotReversible                    type                      <class 'sympy.polys.polyerrors.NotReversible'>\n",
      "Number                           type                      <class 'sympy.core.numbers.Number'>\n",
      "NumberSymbol                     type                      <class 'sympy.core.numbers.NumberSymbol'>\n",
      "O                                type                      <class 'sympy.series.order.Order'>\n",
      "OmegaPower                       type                      <class 'sympy.sets.ordinals.OmegaPower'>\n",
      "OneMatrix                        type                      <class 'sympy.matrices.ex<...>sions.special.OneMatrix'>\n",
      "OperationNotSupported            type                      <class 'sympy.polys.polye<...>s.OperationNotSupported'>\n",
      "OptionError                      type                      <class 'sympy.polys.polyerrors.OptionError'>\n",
      "Options                          type                      <class 'sympy.polys.polyoptions.Options'>\n",
      "Or                               FunctionClass             Or\n",
      "Order                            type                      <class 'sympy.series.order.Order'>\n",
      "Ordinal                          type                      <class 'sympy.sets.ordinals.Ordinal'>\n",
      "POSform                          function                  <function POSform at 0x734816c0ea20>\n",
      "Parabola                         type                      <class 'sympy.geometry.parabola.Parabola'>\n",
      "Permanent                        type                      <class 'sympy.matrices.ex<...>s.determinant.Permanent'>\n",
      "PermutationMatrix                type                      <class 'sympy.matrices.ex<...>ation.PermutationMatrix'>\n",
      "Piecewise                        FunctionClass             Piecewise\n",
      "Plane                            type                      <class 'sympy.geometry.plane.Plane'>\n",
      "Point                            type                      <class 'sympy.geometry.point.Point'>\n",
      "Point2D                          type                      <class 'sympy.geometry.point.Point2D'>\n",
      "Point3D                          type                      <class 'sympy.geometry.point.Point3D'>\n",
      "PoleError                        type                      <class 'sympy.core.function.PoleError'>\n",
      "PolificationFailed               type                      <class 'sympy.polys.polye<...>rors.PolificationFailed'>\n",
      "Poly                             type                      <class 'sympy.polys.polytools.Poly'>\n",
      "Polygon                          type                      <class 'sympy.geometry.polygon.Polygon'>\n",
      "PolynomialDivisionFailed         type                      <class 'sympy.polys.polye<...>olynomialDivisionFailed'>\n",
      "PolynomialError                  type                      <class 'sympy.polys.polyerrors.PolynomialError'>\n",
      "PolynomialRing                   type                      <class 'sympy.polys.domai<...>mialring.PolynomialRing'>\n",
      "Pow                              type                      <class 'sympy.core.power.Pow'>\n",
      "PowerSet                         type                      <class 'sympy.sets.powerset.PowerSet'>\n",
      "PrecisionExhausted               type                      <class 'sympy.core.evalf.PrecisionExhausted'>\n",
      "Predicate                        PredicateMeta             <class 'sympy.assumptions.assume.Predicate'>\n",
      "Product                          type                      <class 'sympy.concrete.products.Product'>\n",
      "ProductSet                       type                      <class 'sympy.sets.sets.ProductSet'>\n",
      "PurePoly                         type                      <class 'sympy.polys.polytools.PurePoly'>\n",
      "PythonFiniteField                type                      <class 'sympy.polys.domai<...>field.PythonFiniteField'>\n",
      "PythonIntegerRing                type                      <class 'sympy.polys.domai<...>rring.PythonIntegerRing'>\n",
      "PythonRational                   type                      <class 'sympy.external.pythonmpq.PythonMPQ'>\n",
      "Q                                AssumptionKeys            <sympy.assumptions.ask.As<...>object at 0x734816d0fb60>\n",
      "QQ                               RationalField             QQ\n",
      "QQ_I                             GaussianRationalField     QQ_I\n",
      "QQ_gmpy                          type                      <class 'sympy.polys.domai<...>field.GMPYRationalField'>\n",
      "QQ_python                        type                      <class 'sympy.polys.domai<...>eld.PythonRationalField'>\n",
      "Quaternion                       type                      <class 'sympy.algebras.quaternion.Quaternion'>\n",
      "RR                               RealField                 RR\n",
      "Range                            type                      <class 'sympy.sets.fancysets.Range'>\n",
      "Rational                         type                      <class 'sympy.core.numbers.Rational'>\n",
      "RationalField                    type                      <class 'sympy.polys.domai<...>onalfield.RationalField'>\n",
      "Rationals                        Rationals                 Rationals\n",
      "Ray                              type                      <class 'sympy.geometry.line.Ray'>\n",
      "Ray2D                            type                      <class 'sympy.geometry.line.Ray2D'>\n",
      "Ray3D                            type                      <class 'sympy.geometry.line.Ray3D'>\n",
      "RealField                        type                      <class 'sympy.polys.domains.realfield.RealField'>\n",
      "RealNumber                       type                      <class 'sympy.core.numbers.Float'>\n",
      "Reals                            Reals                     Reals\n",
      "RefinementFailed                 type                      <class 'sympy.polys.polyerrors.RefinementFailed'>\n",
      "RegularPolygon                   type                      <class 'sympy.geometry.polygon.RegularPolygon'>\n",
      "Rel                              type                      <class 'sympy.core.relational.Relational'>\n",
      "Rem                              FunctionClass             Rem\n",
      "RisingFactorial                  FunctionClass             RisingFactorial\n",
      "RootOf                           type                      <class 'sympy.polys.rootoftools.RootOf'>\n",
      "RootSum                          type                      <class 'sympy.polys.rootoftools.RootSum'>\n",
      "S                                SingletonRegistry         S\n",
      "SOPform                          function                  <function SOPform at 0x734816c0e8e0>\n",
      "Segment                          type                      <class 'sympy.geometry.line.Segment'>\n",
      "Segment2D                        type                      <class 'sympy.geometry.line.Segment2D'>\n",
      "Segment3D                        type                      <class 'sympy.geometry.line.Segment3D'>\n",
      "SeqAdd                           type                      <class 'sympy.series.sequences.SeqAdd'>\n",
      "SeqFormula                       type                      <class 'sympy.series.sequences.SeqFormula'>\n",
      "SeqMul                           type                      <class 'sympy.series.sequences.SeqMul'>\n",
      "SeqPer                           type                      <class 'sympy.series.sequences.SeqPer'>\n",
      "Set                              type                      <class 'sympy.sets.sets.Set'>\n",
      "ShapeError                       type                      <class 'sympy.matrices.exceptions.ShapeError'>\n",
      "Shi                              FunctionClass             Shi\n",
      "Si                               FunctionClass             Si\n",
      "Sieve                            type                      <class 'sympy.ntheory.generate.Sieve'>\n",
      "SineTransform                    FunctionClass             SineTransform\n",
      "SingularityFunction              FunctionClass             SingularityFunction\n",
      "SparseMatrix                     type                      <class 'sympy.matrices.sp<...>rse.MutableSparseMatrix'>\n",
      "SparseNDimArray                  type                      <class 'sympy.tensor.arra<...>m_array.SparseNDimArray'>\n",
      "StrPrinter                       type                      <class 'sympy.printing.str.StrPrinter'>\n",
      "StrictGreaterThan                type                      <class 'sympy.core.relational.StrictGreaterThan'>\n",
      "StrictLessThan                   type                      <class 'sympy.core.relational.StrictLessThan'>\n",
      "Subs                             type                      <class 'sympy.core.function.Subs'>\n",
      "Sum                              type                      <class 'sympy.concrete.summations.Sum'>\n",
      "Symbol                           type                      <class 'sympy.core.symbol.Symbol'>\n",
      "SymmetricDifference              type                      <class 'sympy.sets.sets.SymmetricDifference'>\n",
      "SympifyError                     type                      <class 'sympy.core.sympify.SympifyError'>\n",
      "TableForm                        type                      <class 'sympy.printing.tableform.TableForm'>\n",
      "Trace                            type                      <class 'sympy.matrices.expressions.trace.Trace'>\n",
      "Transpose                        type                      <class 'sympy.matrices.ex<...>ons.transpose.Transpose'>\n",
      "Triangle                         type                      <class 'sympy.geometry.polygon.Triangle'>\n",
      "TribonacciConstant               TribonacciConstant        TribonacciConstant\n",
      "Tuple                            type                      <class 'sympy.core.containers.Tuple'>\n",
      "Unequality                       type                      <class 'sympy.core.relational.Unequality'>\n",
      "UnevaluatedExpr                  type                      <class 'sympy.core.expr.UnevaluatedExpr'>\n",
      "UnificationFailed                type                      <class 'sympy.polys.polye<...>rrors.UnificationFailed'>\n",
      "Union                            type                      <class 'sympy.sets.sets.Union'>\n",
      "UnivariatePolynomialError        type                      <class 'sympy.polys.polye<...>ivariatePolynomialError'>\n",
      "UniversalSet                     UniversalSet              UniversalSet\n",
      "Wild                             type                      <class 'sympy.core.symbol.Wild'>\n",
      "WildFunction                     FunctionClass             WildFunction\n",
      "Xor                              FunctionClass             Xor\n",
      "Ynm                              FunctionClass             Ynm\n",
      "Ynm_c                            function                  <function Ynm_c at 0x734816695300>\n",
      "ZZ                               IntegerRing               ZZ\n",
      "ZZ_I                             GaussianIntegerRing       ZZ_I\n",
      "ZZ_gmpy                          type                      <class 'sympy.polys.domai<...>gerring.GMPYIntegerRing'>\n",
      "ZZ_python                        type                      <class 'sympy.polys.domai<...>rring.PythonIntegerRing'>\n",
      "ZeroMatrix                       type                      <class 'sympy.matrices.ex<...>ions.special.ZeroMatrix'>\n",
      "Znm                              FunctionClass             Znm\n",
      "abundance                        function                  <function abundance at 0x734816ad6fc0>\n",
      "acos                             FunctionClass             acos\n",
      "acosh                            FunctionClass             acosh\n",
      "acot                             FunctionClass             acot\n",
      "acoth                            FunctionClass             acoth\n",
      "acsc                             FunctionClass             acsc\n",
      "acsch                            FunctionClass             acsch\n",
      "adjoint                          FunctionClass             adjoint\n",
      "airyai                           FunctionClass             airyai\n",
      "airyaiprime                      FunctionClass             airyaiprime\n",
      "airybi                           FunctionClass             airybi\n",
      "airybiprime                      FunctionClass             airybiprime\n",
      "algebras                         module                    <module 'sympy.algebras' <...>py/algebras/__init__.py'>\n",
      "all_roots                        function                  <function all_roots at 0x734816aa3ec0>\n",
      "andre                            FunctionClass             andre\n",
      "apart                            function                  <function apart at 0x7348164cdb20>\n",
      "apart_list                       function                  <function apart_list at 0x734816211620>\n",
      "appellf1                         FunctionClass             appellf1\n",
      "apply_finite_diff                function                  <function apply_finite_diff at 0x7348162c9e40>\n",
      "approximants                     function                  <function approximants at 0x7348162e9580>\n",
      "are_similar                      function                  <function are_similar at 0x734815f685e0>\n",
      "arg                              FunctionClass             arg\n",
      "arity                            function                  <function arity at 0x734816d78f40>\n",
      "asec                             FunctionClass             asec\n",
      "asech                            FunctionClass             asech\n",
      "asin                             FunctionClass             asin\n",
      "asinh                            FunctionClass             asinh\n",
      "ask                              function                  <function ask at 0x734816c61300>\n",
      "assemble_partfrac_list           function                  <function assemble_partfr<...>c_list at 0x7348162c1bc0>\n",
      "assoc_laguerre                   FunctionClass             assoc_laguerre\n",
      "assoc_legendre                   FunctionClass             assoc_legendre\n",
      "assuming                         function                  <function assuming at 0x734816c368e0>\n",
      "assumptions                      module                    <module 'sympy.assumption<...>assumptions/__init__.py'>\n",
      "atan                             FunctionClass             atan\n",
      "atan2                            FunctionClass             atan2\n",
      "atanh                            FunctionClass             atanh\n",
      "banded                           function                  <function banded at 0x7348162114e0>\n",
      "bell                             FunctionClass             bell\n",
      "bernoulli                        FunctionClass             bernoulli\n",
      "besseli                          FunctionClass             besseli\n",
      "besselj                          FunctionClass             besselj\n",
      "besselk                          FunctionClass             besselk\n",
      "besselsimp                       function                  <function besselsimp at 0x734816021b20>\n",
      "bessely                          FunctionClass             bessely\n",
      "beta                             FunctionClass             beta\n",
      "betainc                          FunctionClass             betainc\n",
      "betainc_regularized              FunctionClass             betainc_regularized\n",
      "binomial                         FunctionClass             binomial\n",
      "binomial_coefficients            function                  <function binomial_coeffi<...>cients at 0x734816af2200>\n",
      "binomial_coefficients_list       function                  <function binomial_coeffi<...>s_list at 0x734816af22a0>\n",
      "block_collapse                   function                  <function block_collapse at 0x734816272340>\n",
      "blockcut                         function                  <function blockcut at 0x73481629c9a0>\n",
      "bool_map                         function                  <function bool_map at 0x734816c0f060>\n",
      "bottom_up                        function                  <function bottom_up at 0x734816e59580>\n",
      "bspline_basis                    _lru_cache_wrapper        <functools._lru_cache_wra<...>object at 0x7348167c2cf0>\n",
      "bspline_basis_set                function                  <function bspline_basis_set at 0x734816695440>\n",
      "cacheit                          function                  <function __cacheit.<loca<...>rapper at 0x734816fdb380>\n",
      "calculus                         module                    <module 'sympy.calculus' <...>py/calculus/__init__.py'>\n",
      "cancel                           function                  <function cancel at 0x734816aa8220>\n",
      "capture                          function                  <function capture at 0x734816fbf100>\n",
      "carmichael                       FunctionClass             carmichael\n",
      "cartes                           type                      <class 'itertools.product'>\n",
      "casoratian                       function                  <function casoratian at 0x7348163fbc40>\n",
      "catalan                          FunctionClass             catalan\n",
      "cbrt                             function                  <function cbrt at 0x734816718400>\n",
      "ccode                            function                  <function ccode at 0x734816887600>\n",
      "ceiling                          FunctionClass             ceiling\n",
      "centroid                         function                  <function centroid at 0x734815f68680>\n",
      "chebyshevt                       FunctionClass             chebyshevt\n",
      "chebyshevt_poly                  function                  <function chebyshevt_poly at 0x7348166e9ee0>\n",
      "chebyshevt_root                  FunctionClass             chebyshevt_root\n",
      "chebyshevu                       FunctionClass             chebyshevu\n",
      "chebyshevu_poly                  function                  <function chebyshevu_poly at 0x7348166e9f80>\n",
      "chebyshevu_root                  FunctionClass             chebyshevu_root\n",
      "check_assumptions                function                  <function check_assumptions at 0x734816ffbb00>\n",
      "checkodesol                      function                  <function checkodesol at 0x7348160e4180>\n",
      "checkpdesol                      function                  <function checkpdesol at 0x7348160e5120>\n",
      "checksol                         function                  <function checksol at 0x7348160263e0>\n",
      "classify_ode                     function                  <function classify_ode at 0x7348160a7920>\n",
      "classify_pde                     function                  <function classify_pde at 0x7348160e5080>\n",
      "closest_points                   function                  <function closest_points at 0x734815f68720>\n",
      "cofactors                        function                  <function cofactors at 0x734816aa2a20>\n",
      "collect                          function                  <function collect at 0x734816009260>\n",
      "collect_const                    function                  <function collect_const at 0x73481600a200>\n",
      "combsimp                         function                  <function combsimp at 0x7348161c4b80>\n",
      "comp                             function                  <function comp at 0x734816eec180>\n",
      "compose                          function                  <function compose at 0x734816aa3060>\n",
      "composite                        function                  <function composite at 0x734816aabce0>\n",
      "compositepi                      function                  <function compositepi at 0x734816aabd80>\n",
      "concrete                         module                    <module 'sympy.concrete' <...>py/concrete/__init__.py'>\n",
      "conjugate                        FunctionClass             conjugate\n",
      "construct_domain                 function                  <function construct_domain at 0x734816a7f060>\n",
      "content                          function                  <function content at 0x734816aa2f20>\n",
      "continued_fraction               function                  <function continued_fraction at 0x734816af2660>\n",
      "continued_fraction_convergents   function                  <function continued_fract<...>rgents at 0x734816af28e0>\n",
      "continued_fraction_iterator      function                  <function continued_fract<...>erator at 0x734816af2840>\n",
      "continued_fraction_periodic      function                  <function continued_fract<...>riodic at 0x734816af2700>\n",
      "continued_fraction_reduce        function                  <function continued_fract<...>reduce at 0x734816af27a0>\n",
      "convex_hull                      function                  <function convex_hull at 0x734815f687c0>\n",
      "convolution                      function                  <function convolution at 0x734816134c20>\n",
      "cos                              FunctionClass             cos\n",
      "cosh                             FunctionClass             cosh\n",
      "cosine_transform                 function                  <function cosine_transform at 0x734816199440>\n",
      "cot                              FunctionClass             cot\n",
      "coth                             FunctionClass             coth\n",
      "count_ops                        function                  <function count_ops at 0x734816dc05e0>\n",
      "count_roots                      function                  <function count_roots at 0x734816aa3e20>\n",
      "covering_product                 function                  <function covering_product at 0x734816134f40>\n",
      "csc                              FunctionClass             csc\n",
      "csch                             FunctionClass             csch\n",
      "cse                              function                  <function cse at 0x73481600bd80>\n",
      "cxxcode                          function                  <function cxxcode at 0x73481654e840>\n",
      "cycle_length                     function                  <function cycle_length at 0x734816aabc40>\n",
      "cyclotomic_poly                  function                  <function cyclotomic_poly at 0x734816aa99e0>\n",
      "decompogen                       function                  <function decompogen at 0x734815f14a40>\n",
      "decompose                        function                  <function decompose at 0x734816aa3100>\n",
      "default_sort_key                 function                  <function default_sort_key at 0x734816e40220>\n",
      "deg                              function                  <function deg at 0x734815f9a0c0>\n",
      "degree                           function                  <function degree at 0x734816aa1da0>\n",
      "degree_list                      function                  <function degree_list at 0x734816aa1ee0>\n",
      "denom                            function                  <function denom at 0x73481600a520>\n",
      "derive_by_array                  function                  <function derive_by_array at 0x7348163805e0>\n",
      "det                              function                  <function det at 0x73481627d440>\n",
      "det_quick                        function                  <function det_quick at 0x734816026c00>\n",
      "diag                             function                  <function diag at 0x7348163fbe20>\n",
      "diagonalize_vector               function                  <function diagonalize_vector at 0x73481629e980>\n",
      "dict_merge                       function                  <function dict_merge at 0x734816fbf2e0>\n",
      "diff                             function                  <function diff at 0x734816dbed40>\n",
      "difference_delta                 function                  <function difference_delta at 0x7348161384a0>\n",
      "differentiate_finite             function                  <function differentiate_finite at 0x7348162c9f80>\n",
      "digamma                          FunctionClass             digamma\n",
      "diophantine                      function                  <function diophantine at 0x7348160a45e0>\n",
      "dirichlet_eta                    FunctionClass             dirichlet_eta\n",
      "discrete                         module                    <module 'sympy.discrete' <...>py/discrete/__init__.py'>\n",
      "discrete_log                     function                  <function discrete_log at 0x734816af1760>\n",
      "discriminant                     function                  <function discriminant at 0x734816aa2980>\n",
      "div                              function                  <function div at 0x734816aa23e0>\n",
      "divisor_count                    function                  <function divisor_count at 0x734816ad6020>\n",
      "divisor_sigma                    FunctionClass             divisor_sigma\n",
      "divisors                         function                  <function divisors at 0x734816ad5f80>\n",
      "doctest                          LazyFunction              <function doctest at 0x7347d3ee39c0>\n",
      "dotprint                         function                  <function dotprint at 0x7348165c2520>\n",
      "dsolve                           function                  <function dsolve at 0x7348160a7740>\n",
      "egyptian_fraction                function                  <function egyptian_fraction at 0x734816af2ac0>\n",
      "elliptic_e                       FunctionClass             elliptic_e\n",
      "elliptic_f                       FunctionClass             elliptic_f\n",
      "elliptic_k                       FunctionClass             elliptic_k\n",
      "elliptic_pi                      FunctionClass             elliptic_pi\n",
      "epath                            function                  <function epath at 0x734816024400>\n",
      "erf                              FunctionClass             erf\n",
      "erf2                             FunctionClass             erf2\n",
      "erf2inv                          FunctionClass             erf2inv\n",
      "erfc                             FunctionClass             erfc\n",
      "erfcinv                          FunctionClass             erfcinv\n",
      "erfi                             FunctionClass             erfi\n",
      "erfinv                           FunctionClass             erfinv\n",
      "euler                            FunctionClass             euler\n",
      "euler_equations                  function                  <function euler_equations at 0x7348162c94e0>\n",
      "evalf                            module                    <module 'sympy.core.evalf<...>ges/sympy/core/evalf.py'>\n",
      "evaluate                         type                      <class 'sympy.core.parameters.evaluate'>\n",
      "exp                              ExpMeta                   exp\n",
      "exp_polar                        FunctionClass             exp_polar\n",
      "expand                           function                  <function expand at 0x734816dbff60>\n",
      "expand_complex                   function                  <function expand_complex at 0x734816dc0400>\n",
      "expand_func                      function                  <function expand_func at 0x734816dc02c0>\n",
      "expand_log                       function                  <function expand_log at 0x734816dc0220>\n",
      "expand_mul                       function                  <function expand_mul at 0x734816dc00e0>\n",
      "expand_multinomial               function                  <function expand_multinomial at 0x734816dc0180>\n",
      "expand_power_base                function                  <function expand_power_base at 0x734816dc04a0>\n",
      "expand_power_exp                 function                  <function expand_power_exp at 0x734816dc0540>\n",
      "expand_trig                      function                  <function expand_trig at 0x734816dc0360>\n",
      "expint                           FunctionClass             expint\n",
      "exptrigsimp                      function                  <function exptrigsimp at 0x734816020360>\n",
      "exquo                            function                  <function exquo at 0x734816aa25c0>\n",
      "external                         module                    <module 'sympy.external' <...>py/external/__init__.py'>\n",
      "eye                              function                  <function eye at 0x7348163fbd80>\n",
      "f                                UndefinedFunction         f\n",
      "factor                           function                  <function factor at 0x734816aa3c40>\n",
      "factor_cache                     FactorCache               <sympy.ntheory.factor_.Fa<...>object at 0x734816beecf0>\n",
      "factor_list                      function                  <function factor_list at 0x734816aa3ba0>\n",
      "factor_nc                        function                  <function factor_nc at 0x734816c34ae0>\n",
      "factor_system                    function                  <function factor_system at 0x734816025bc0>\n",
      "factor_terms                     function                  <function factor_terms at 0x734816c349a0>\n",
      "factorial                        FunctionClass             factorial\n",
      "factorial2                       FunctionClass             factorial2\n",
      "factorint                        function                  <function factorint at 0x734816ad5d00>\n",
      "factorrat                        function                  <function factorrat at 0x734816ad5da0>\n",
      "failing_assumptions              function                  <function failing_assumptions at 0x734816ffba60>\n",
      "false                            BooleanFalse              False\n",
      "farthest_points                  function                  <function farthest_points at 0x734815f68860>\n",
      "fcode                            function                  <function fcode at 0x73481654e700>\n",
      "ff                               FunctionClass             FallingFactorial\n",
      "fft                              function                  <function fft at 0x734816134400>\n",
      "fibonacci                        FunctionClass             fibonacci\n",
      "field                            function                  <function field at 0x7348162c1d00>\n",
      "field_isomorphism                function                  <function field_isomorphism at 0x7348164253a0>\n",
      "filldedent                       function                  <function filldedent at 0x734816fbd1c0>\n",
      "finite_diff_weights              function                  <function finite_diff_weights at 0x7348162c9da0>\n",
      "flatten                          function                  <function flatten at 0x734816fbdda0>\n",
      "floor                            FunctionClass             floor\n",
      "fourier_series                   function                  <function fourier_series at 0x73481610e200>\n",
      "fourier_transform                function                  <function fourier_transform at 0x734816198400>\n",
      "fps                              function                  <function fps at 0x734816135d00>\n",
      "frac                             FunctionClass             frac\n",
      "fraction                         function                  <function fraction at 0x73481600a3e0>\n",
      "fresnelc                         FunctionClass             fresnelc\n",
      "fresnels                         FunctionClass             fresnels\n",
      "fu                               function                  <function fu at 0x7348160237e0>\n",
      "functions                        module                    <module 'sympy.functions'<...>y/functions/__init__.py'>\n",
      "fwht                             function                  <function fwht at 0x7348161347c0>\n",
      "g                                UndefinedFunction         g\n",
      "galois_group                     function                  <function galois_group at 0x7348164cd9e0>\n",
      "gamma                            FunctionClass             gamma\n",
      "gammasimp                        function                  <function gammasimp at 0x7348161c4ea0>\n",
      "gcd                              function                  <function gcd at 0x734816aa2b60>\n",
      "gcd_list                         function                  <function gcd_list at 0x734816aa2ac0>\n",
      "gcd_terms                        function                  <function gcd_terms at 0x734816c34860>\n",
      "gcdex                            function                  <function gcdex at 0x734816aa2700>\n",
      "gegenbauer                       FunctionClass             gegenbauer\n",
      "genocchi                         FunctionClass             genocchi\n",
      "geometry                         module                    <module 'sympy.geometry' <...>py/geometry/__init__.py'>\n",
      "get_contraction_structure        function                  <function get_contraction<...>ucture at 0x73481630f920>\n",
      "get_indices                      function                  <function get_indices at 0x73481630f880>\n",
      "gff                              function                  <function gff at 0x734816aa32e0>\n",
      "gff_list                         function                  <function gff_list at 0x734816aa3240>\n",
      "glsl_code                        function                  <function glsl_code at 0x73481655f9c0>\n",
      "grevlex                          ReversedGradedLexOrder    grevlex\n",
      "grlex                            GradedLexOrder            grlex\n",
      "groebner                         function                  <function groebner at 0x734816aa8360>\n",
      "ground_roots                     function                  <function ground_roots at 0x734816aa80e0>\n",
      "group                            function                  <function group at 0x734816fbeb60>\n",
      "gruntz                           function                  <function gruntz at 0x7348162e8f40>\n",
      "h                                UndefinedFunction         h\n",
      "hadamard_product                 function                  <function hadamard_product at 0x73481629da80>\n",
      "half_gcdex                       function                  <function half_gcdex at 0x734816aa2660>\n",
      "hankel1                          FunctionClass             hankel1\n",
      "hankel2                          FunctionClass             hankel2\n",
      "hankel_transform                 function                  <function hankel_transform at 0x734816199800>\n",
      "harmonic                         FunctionClass             harmonic\n",
      "has_dups                         function                  <function has_dups at 0x734816fbff60>\n",
      "has_variety                      function                  <function has_variety at 0x734816fd8040>\n",
      "hermite                          FunctionClass             hermite\n",
      "hermite_poly                     function                  <function hermite_poly at 0x7348166ea160>\n",
      "hermite_prob                     FunctionClass             hermite_prob\n",
      "hermite_prob_poly                function                  <function hermite_prob_poly at 0x7348166ea200>\n",
      "hessian                          function                  <function hessian at 0x7348163fbf60>\n",
      "hn1                              FunctionClass             hn1\n",
      "hn2                              FunctionClass             hn2\n",
      "homogeneous_order                function                  <function homogeneous_order at 0x7348160b8400>\n",
      "horner                           function                  <function horner at 0x734816aa94e0>\n",
      "hyper                            FunctionClass             hyper\n",
      "hyperexpand                      function                  <function hyperexpand at 0x734816009080>\n",
      "hypersimilar                     function                  <function hypersimilar at 0x734816020fe0>\n",
      "hypersimp                        function                  <function hypersimp at 0x734816020f40>\n",
      "idiff                            function                  <function idiff at 0x734815f68900>\n",
      "ifft                             function                  <function ifft at 0x7348161344a0>\n",
      "ifwht                            function                  <function ifwht at 0x734816134860>\n",
      "igcd                             _lru_cache_wrapper        <functools._lru_cache_wra<...>object at 0x734816f07d70>\n",
      "igrevlex                         InverseOrder              igrevlex\n",
      "igrlex                           InverseOrder              igrlex\n",
      "ilcm                             function                  <function ilcm at 0x734816eab7e0>\n",
      "ilex                             InverseOrder              ilex\n",
      "im                               FunctionClass             im\n",
      "imageset                         function                  <function imageset at 0x7348166cd120>\n",
      "init_printing                    function                  <function init_printing at 0x734815e26660>\n",
      "init_session                     function                  <function init_session at 0x734815e26d40>\n",
      "integer_log                      function                  <function integer_log at 0x734816eab4c0>\n",
      "integer_nthroot                  function                  <function integer_nthroot at 0x734816eaba60>\n",
      "integrate                        function                  <function integrate at 0x73481613ade0>\n",
      "interactive                      module                    <module 'sympy.interactiv<...>interactive/__init__.py'>\n",
      "interactive_traversal            function                  <function interactive_tra<...>versal at 0x734815e26e80>\n",
      "interpolate                      function                  <function interpolate at 0x7348165db6a0>\n",
      "interpolating_poly               function                  <function interpolating_poly at 0x734816af36a0>\n",
      "interpolating_spline             function                  <function interpolating_spline at 0x7348166e8b80>\n",
      "intersecting_product             function                  <function intersecting_product at 0x734816134fe0>\n",
      "intersection                     function                  <function intersection at 0x734815f689a0>\n",
      "intervals                        function                  <function intervals at 0x734816aa3ce0>\n",
      "intt                             function                  <function intt at 0x734816134680>\n",
      "inv_quick                        function                  <function inv_quick at 0x734816026ca0>\n",
      "inverse_cosine_transform         function                  <function inverse_cosine_<...>nsform at 0x734816199620>\n",
      "inverse_fourier_transform        function                  <function inverse_fourier<...>nsform at 0x734816198a40>\n",
      "inverse_hankel_transform         function                  <function inverse_hankel_<...>nsform at 0x734816199d00>\n",
      "inverse_laplace_transform        function                  <function inverse_laplace<...>nsform at 0x7348161be3e0>\n",
      "inverse_mellin_transform         function                  <function inverse_mellin_<...>nsform at 0x73481616fec0>\n",
      "inverse_mobius_transform         function                  <function inverse_mobius_<...>nsform at 0x734816134a40>\n",
      "inverse_sine_transform           function                  <function inverse_sine_tr<...>nsform at 0x734816199260>\n",
      "invert                           function                  <function invert at 0x734816aa27a0>\n",
      "is_abundant                      function                  <function is_abundant at 0x734816ad7060>\n",
      "is_amicable                      function                  <function is_amicable at 0x734816ad71a0>\n",
      "is_carmichael                    function                  <function is_carmichael at 0x734816ad7240>\n",
      "is_convex                        function                  <function is_convex at 0x7348162cbba0>\n",
      "is_decreasing                    function                  <function is_decreasing at 0x7348162c99e0>\n",
      "is_deficient                     function                  <function is_deficient at 0x734816ad7100>\n",
      "is_increasing                    function                  <function is_increasing at 0x7348162c98a0>\n",
      "is_mersenne_prime                function                  <function is_mersenne_prime at 0x734816aaad40>\n",
      "is_monotonic                     function                  <function is_monotonic at 0x7348162c9b20>\n",
      "is_nthpow_residue                function                  <function is_nthpow_residue at 0x734816af0c20>\n",
      "is_perfect                       function                  <function is_perfect at 0x734816ad6f20>\n",
      "is_primitive_root                function                  <function is_primitive_root at 0x734816af07c0>\n",
      "is_quad_residue                  function                  <function is_quad_residue at 0x734816af0b80>\n",
      "is_strictly_decreasing           function                  <function is_strictly_dec<...>easing at 0x7348162c9a80>\n",
      "is_strictly_increasing           function                  <function is_strictly_inc<...>easing at 0x7348162c9940>\n",
      "is_zero_dimensional              function                  <function is_zero_dimensional at 0x734816aa8400>\n",
      "isolate                          function                  <function isolate at 0x7348164ad260>\n",
      "isprime                          function                  <function isprime at 0x734816aaade0>\n",
      "itermonomials                    function                  <function itermonomials at 0x734816b494e0>\n",
      "jacobi                           FunctionClass             jacobi\n",
      "jacobi_normalized                function                  <function jacobi_normalized at 0x734816527600>\n",
      "jacobi_poly                      function                  <function jacobi_poly at 0x7348166e9a80>\n",
      "jacobi_symbol                    FunctionClass             jacobi_symbol\n",
      "jn                               FunctionClass             jn\n",
      "jn_zeros                         function                  <function jn_zeros at 0x734816524400>\n",
      "jordan_cell                      function                  <function jordan_cell at 0x734816210040>\n",
      "jscode                           function                  <function jscode at 0x734816579da0>\n",
      "julia_code                       function                  <function julia_code at 0x73481657ad40>\n",
      "k                                Symbol                    k\n",
      "kronecker_product                function                  <function kronecker_product at 0x73481629f6a0>\n",
      "kronecker_symbol                 FunctionClass             kronecker_symbol\n",
      "kroneckersimp                    function                  <function kroneckersimp at 0x734816021a80>\n",
      "laguerre                         FunctionClass             laguerre\n",
      "laguerre_poly                    function                  <function laguerre_poly at 0x7348166ea480>\n",
      "lambdify                         function                  <function lambdify at 0x734816fd9d00>\n",
      "laplace_correspondence           function                  <function laplace_corresp<...>ndence at 0x7348161bcd60>\n",
      "laplace_initial_conds            function                  <function laplace_initial<...>_conds at 0x7348161bce00>\n",
      "laplace_transform                function                  <function laplace_transform at 0x73481616fce0>\n",
      "latex                            _PrintFunction            <sympy.printing.printer._<...>object at 0x7348169995b0>\n",
      "lcm                              function                  <function lcm at 0x734816aa2ca0>\n",
      "lcm_list                         function                  <function lcm_list at 0x734816aa2c00>\n",
      "legendre                         FunctionClass             legendre\n",
      "legendre_poly                    function                  <function legendre_poly at 0x7348166ea340>\n",
      "legendre_symbol                  FunctionClass             legendre_symbol\n",
      "lerchphi                         FunctionClass             lerchphi\n",
      "lex                              LexOrder                  lex\n",
      "li                               FunctionClass             li\n",
      "limit                            function                  <function limit at 0x7348162c8fe0>\n",
      "limit_seq                        function                  <function limit_seq at 0x7348161387c0>\n",
      "line_integrate                   function                  <function line_integrate at 0x73481613bf60>\n",
      "linear_eq_to_matrix              function                  <function linear_eq_to_matrix at 0x73481606e8e0>\n",
      "linsolve                         function                  <function linsolve at 0x73481606e980>\n",
      "list2numpy                       function                  <function list2numpy at 0x7348163fb420>\n",
      "ln                               FunctionClass             log\n",
      "log                              FunctionClass             log\n",
      "logcombine                       function                  <function logcombine at 0x734816021940>\n",
      "loggamma                         FunctionClass             loggamma\n",
      "lowergamma                       FunctionClass             lowergamma\n",
      "lucas                            FunctionClass             lucas\n",
      "m                                Symbol                    m\n",
      "maple_code                       function                  <function maple_code at 0x7348165c2700>\n",
      "marcumq                          FunctionClass             marcumq\n",
      "mathematica_code                 function                  <function mathematica_code at 0x73481654ff60>\n",
      "mathieuc                         FunctionClass             mathieuc\n",
      "mathieucprime                    FunctionClass             mathieucprime\n",
      "mathieus                         FunctionClass             mathieus\n",
      "mathieusprime                    FunctionClass             mathieusprime\n",
      "mathml                           _PrintFunction            <sympy.printing.printer._<...>object at 0x734816999f30>\n",
      "matrix2numpy                     function                  <function matrix2numpy at 0x7348163fb6a0>\n",
      "matrix_multiply_elementwise      function                  <function matrix_multiply<...>ntwise at 0x7348162100e0>\n",
      "matrix_symbols                   function                  <function matrix_symbols at 0x7348162419e0>\n",
      "maximum                          function                  <function maximum at 0x7348162cbce0>\n",
      "meijerg                          FunctionClass             meijerg\n",
      "mellin_transform                 function                  <function mellin_transform at 0x73481616fa60>\n",
      "memoize_property                 function                  <function memoize_property at 0x734816fbe980>\n",
      "mersenne_prime_exponent          function                  <function mersenne_prime_<...>ponent at 0x734816ad6ac0>\n",
      "minimal_polynomial               function                  <function minimal_polynomial at 0x734816424ea0>\n",
      "minimum                          function                  <function minimum at 0x7348162cbd80>\n",
      "minpoly                          function                  <function minpoly at 0x734816424fe0>\n",
      "mobius                           FunctionClass             mobius\n",
      "mobius_transform                 function                  <function mobius_transform at 0x7348161349a0>\n",
      "mod_inverse                      function                  <function mod_inverse at 0x734816eab920>\n",
      "monic                            function                  <function monic at 0x734816aa2e80>\n",
      "motzkin                          FunctionClass             motzkin\n",
      "multigamma                       FunctionClass             multigamma\n",
      "multiline_latex                  function                  <function multiline_latex at 0x734816860400>\n",
      "multinomial_coefficients         function                  <function multinomial_coe<...>cients at 0x734816af2340>\n",
      "multipledispatch                 module                    <module 'sympy.multipledi<...>pledispatch/__init__.py'>\n",
      "multiplicity                     function                  <function multiplicity at 0x734816ad4f40>\n",
      "n                                Symbol                    n\n",
      "n_order                          function                  <function n_order at 0x734816aa9da0>\n",
      "nan                              NaN                       nan\n",
      "nextprime                        function                  <function nextprime at 0x734816aab920>\n",
      "nfloat                           function                  <function nfloat at 0x734816dc0680>\n",
      "nonlinsolve                      function                  <function nonlinsolve at 0x73481606ee80>\n",
      "not_empty_in                     function                  <function not_empty_in at 0x7348162cb880>\n",
      "npartitions                      function                  <function npartitions at 0x734816af2020>\n",
      "nroots                           function                  <function nroots at 0x734816aa8040>\n",
      "nsimplify                        function                  <function nsimplify at 0x734816021c60>\n",
      "nsolve                           function                  <function nsolve at 0x734816027100>\n",
      "nth_power_roots_poly             function                  <function nth_power_roots_poly at 0x734816aa8180>\n",
      "ntheory                          module                    <module 'sympy.ntheory' f<...>mpy/ntheory/__init__.py'>\n",
      "nthroot_mod                      function                  <function nthroot_mod at 0x734816af0ea0>\n",
      "ntt                              function                  <function ntt at 0x7348161345e0>\n",
      "num_digits                       function                  <function num_digits at 0x734816eab420>\n",
      "numbered_symbols                 function                  <function numbered_symbols at 0x734816fbf060>\n",
      "numer                            function                  <function numer at 0x73481600a480>\n",
      "octave_code                      function                  <function octave_code at 0x7348165a62a0>\n",
      "ode_order                        function                  <function ode_order at 0x7348160a7600>\n",
      "ones                             function                  <function ones at 0x734816210180>\n",
      "oo                               Infinity                  oo\n",
      "ord0                             OrdinalZero               ord0\n",
      "ordered                          function                  <function ordered at 0x734816e40400>\n",
      "pager_print                      function                  <function pager_print at 0x734816802480>\n",
      "parallel_poly_from_expr          function                  <function parallel_poly_f<...>m_expr at 0x734816aa1bc0>\n",
      "parse_expr                       function                  <function parse_expr at 0x734815fb8d60>\n",
      "parsing                          module                    <module 'sympy.parsing' f<...>mpy/parsing/__init__.py'>\n",
      "partition                        FunctionClass             partition\n",
      "pde_separate                     function                  <function pde_separate at 0x7348160e5440>\n",
      "pde_separate_add                 function                  <function pde_separate_add at 0x7348160e54e0>\n",
      "pde_separate_mul                 function                  <function pde_separate_mul at 0x7348160e5580>\n",
      "pdiv                             function                  <function pdiv at 0x734816aa2160>\n",
      "pdsolve                          function                  <function pdsolve at 0x7348160e4ea0>\n",
      "per                              function                  <function per at 0x73481627d760>\n",
      "perfect_power                    function                  <function perfect_power at 0x734816ad5120>\n",
      "periodic_argument                FunctionClass             periodic_argument\n",
      "periodicity                      function                  <function periodicity at 0x7348162cb920>\n",
      "permutedims                      function                  <function permutedims at 0x734816380680>\n",
      "pexquo                           function                  <function pexquo at 0x734816aa2340>\n",
      "pi                               Pi                        pi\n",
      "piecewise_exclusive              function                  <function piecewise_exclusive at 0x73481672ccc0>\n",
      "piecewise_fold                   function                  <function piecewise_fold at 0x73481671a480>\n",
      "plot                             function                  <function plot at 0x734815e25620>\n",
      "plot_backends                    dict                      n=2\n",
      "plot_implicit                    function                  <function plot_implicit at 0x734815e25da0>\n",
      "plot_parametric                  function                  <function plot_parametric at 0x734815e256c0>\n",
      "plotting                         module                    <module 'sympy.plotting' <...>py/plotting/__init__.py'>\n",
      "polar_lift                       FunctionClass             polar_lift\n",
      "polarify                         function                  <function polarify at 0x734816734040>\n",
      "pollard_pm1                      function                  <function pollard_pm1 at 0x734816ad5a80>\n",
      "pollard_rho                      function                  <function pollard_rho at 0x734816ad51c0>\n",
      "poly                             function                  <function poly at 0x734816aa84a0>\n",
      "poly_from_expr                   function                  <function poly_from_expr at 0x734816a916c0>\n",
      "polygamma                        FunctionClass             polygamma\n",
      "polylog                          FunctionClass             polylog\n",
      "polys                            module                    <module 'sympy.polys' fro<...>sympy/polys/__init__.py'>\n",
      "posify                           function                  <function posify at 0x734816020ea0>\n",
      "postfixes                        function                  <function postfixes at 0x734816fbf560>\n",
      "postorder_traversal              function                  <function postorder_traversal at 0x734816e59620>\n",
      "powdenest                        function                  <function powdenest at 0x7348161c5bc0>\n",
      "powsimp                          function                  <function powsimp at 0x7348161c5b20>\n",
      "pprint                           function                  <function pretty_print at 0x7348169d4180>\n",
      "pprint_try_use_unicode           function                  <function pretty_try_use_<...>nicode at 0x7348169d1da0>\n",
      "pprint_use_unicode               function                  <function pretty_use_unicode at 0x7348169d1c60>\n",
      "pquo                             function                  <function pquo at 0x734816aa22a0>\n",
      "prefixes                         function                  <function prefixes at 0x734816fbf4c0>\n",
      "prem                             function                  <function prem at 0x734816aa2200>\n",
      "preorder_traversal               type                      <class 'sympy.core.traversal.preorder_traversal'>\n",
      "pretty                           _PrintFunction            <sympy.printing.printer._<...>object at 0x7348169cc7d0>\n",
      "pretty_print                     function                  <function pretty_print at 0x7348169d4180>\n",
      "preview                          function                  <function preview at 0x7348165c1260>\n",
      "prevprime                        function                  <function prevprime at 0x734816aab9c0>\n",
      "prime                            function                  <function prime at 0x734816aaa3e0>\n",
      "prime_decomp                     function                  <function prime_decomp at 0x7348164cc680>\n",
      "prime_valuation                  function                  <function prime_valuation at 0x7348164cc2c0>\n",
      "primefactors                     function                  <function primefactors at 0x734816ad5e40>\n",
      "primenu                          FunctionClass             primenu\n",
      "primeomega                       FunctionClass             primeomega\n",
      "primepi                          FunctionClass             primepi\n",
      "primerange                       function                  <function primerange at 0x734816aaba60>\n",
      "primitive                        function                  <function primitive at 0x734816aa2fc0>\n",
      "primitive_element                function                  <function primitive_element at 0x734816425580>\n",
      "primitive_root                   function                  <function primitive_root at 0x734816af0720>\n",
      "primorial                        function                  <function primorial at 0x734816aabba0>\n",
      "principal_branch                 FunctionClass             principal_branch\n",
      "print_ccode                      function                  <function print_ccode at 0x73481654e660>\n",
      "print_fcode                      function                  <function print_fcode at 0x73481654e7a0>\n",
      "print_glsl                       function                  <function print_glsl at 0x734816578900>\n",
      "print_gtk                        function                  <function print_gtk at 0x7348165c0540>\n",
      "print_jscode                     function                  <function print_jscode at 0x73481657aac0>\n",
      "print_latex                      function                  <function print_latex at 0x734816860220>\n",
      "print_maple_code                 function                  <function print_maple_code at 0x7348165c3920>\n",
      "print_mathml                     function                  <function print_mathml at 0x734816860680>\n",
      "print_python                     function                  <function print_python at 0x734816886660>\n",
      "print_rcode                      function                  <function print_rcode at 0x734816579b20>\n",
      "print_tree                       function                  <function print_tree at 0x7348165c14e0>\n",
      "printing                         module                    <module 'sympy.printing' <...>py/printing/__init__.py'>\n",
      "prod                             function                  <function prod at 0x734816ebbba0>\n",
      "product                          function                  <function product at 0x734837e7aa20>\n",
      "proper_divisor_count             function                  <function proper_divisor_count at 0x734816ad6160>\n",
      "proper_divisors                  function                  <function proper_divisors at 0x734816ad60c0>\n",
      "public                           function                  <function public at 0x734816fbe8e0>\n",
      "pycode                           function                  <function pycode at 0x73481654ea20>\n",
      "python                           function                  <function python at 0x734816883ec0>\n",
      "quadratic_congruence             function                  <function quadratic_congruence at 0x734816af1800>\n",
      "quadratic_residues               function                  <function quadratic_residues at 0x734816af0f40>\n",
      "quo                              function                  <function quo at 0x734816aa2520>\n",
      "rad                              function                  <function rad at 0x734815f76fc0>\n",
      "radsimp                          function                  <function radsimp at 0x73481600a2a0>\n",
      "randMatrix                       function                  <function randMatrix at 0x734816210220>\n",
      "random_poly                      function                  <function random_poly at 0x734816af2e80>\n",
      "randprime                        function                  <function randprime at 0x734816aabb00>\n",
      "rational_interpolate             function                  <function rational_interpolate at 0x7348165db740>\n",
      "ratsimp                          function                  <function ratsimp at 0x734816024d60>\n",
      "ratsimpmodprime                  function                  <function ratsimpmodprime at 0x734816024e00>\n",
      "rcode                            function                  <function rcode at 0x734816578b80>\n",
      "rcollect                         function                  <function rcollect at 0x7348160094e0>\n",
      "re                               FunctionClass             re\n",
      "real_root                        function                  <function real_root at 0x734816718540>\n",
      "real_roots                       function                  <function real_roots at 0x734816aa3f60>\n",
      "reduce_abs_inequalities          function                  <function reduce_abs_ineq<...>lities at 0x734815f14540>\n",
      "reduce_abs_inequality            function                  <function reduce_abs_ineq<...>uality at 0x734815f144a0>\n",
      "reduce_inequalities              function                  <function reduce_inequalities at 0x734815f14860>\n",
      "reduced                          function                  <function reduced at 0x734816aa82c0>\n",
      "reduced_totient                  FunctionClass             reduced_totient\n",
      "refine                           function                  <function refine at 0x734816c61f80>\n",
      "refine_root                      function                  <function refine_root at 0x734816aa3d80>\n",
      "register_handler                 function                  <function register_handler at 0x734816c61440>\n",
      "release                          module                    <module 'sympy.release' f<...>ckages/sympy/release.py'>\n",
      "rem                              function                  <function rem at 0x734816aa2480>\n",
      "remove_handler                   function                  <function remove_handler at 0x734816c614e0>\n",
      "reshape                          function                  <function reshape at 0x734816fbeac0>\n",
      "residue                          function                  <function residue at 0x7348162e9760>\n",
      "resultant                        function                  <function resultant at 0x734816aa28e0>\n",
      "rf                               FunctionClass             RisingFactorial\n",
      "riemann_xi                       FunctionClass             riemann_xi\n",
      "ring                             function                  <function ring at 0x734816af3ec0>\n",
      "root                             function                  <function root at 0x7348167184a0>\n",
      "rootof                           function                  <function rootof at 0x73481640dd00>\n",
      "roots                            function                  <function roots at 0x734816694680>\n",
      "rot_axis1                        function                  <function rot_axis1 at 0x7348163fb920>\n",
      "rot_axis2                        function                  <function rot_axis2 at 0x7348163fb880>\n",
      "rot_axis3                        function                  <function rot_axis3 at 0x7348163fb7e0>\n",
      "rot_ccw_axis1                    function                  <function rot_ccw_axis1 at 0x7348163fbb00>\n",
      "rot_ccw_axis2                    function                  <function rot_ccw_axis2 at 0x7348163fba60>\n",
      "rot_ccw_axis3                    function                  <function rot_ccw_axis3 at 0x7348163fb9c0>\n",
      "rot_givens                       function                  <function rot_givens at 0x7348163fb740>\n",
      "rotations                        function                  <function rotations at 0x734816fd8b80>\n",
      "round_two                        function                  <function round_two at 0x7348164c31a0>\n",
      "rsolve                           function                  <function rsolve at 0x7348160a67a0>\n",
      "rsolve_hyper                     function                  <function rsolve_hyper at 0x7348160a6700>\n",
      "rsolve_poly                      function                  <function rsolve_poly at 0x7348160272e0>\n",
      "rsolve_ratio                     function                  <function rsolve_ratio at 0x7348160a6660>\n",
      "rust_code                        function                  <function rust_code at 0x73481654e8e0>\n",
      "satisfiable                      function                  <function satisfiable at 0x734816c0fce0>\n",
      "sec                              FunctionClass             sec\n",
      "sech                             FunctionClass             sech\n",
      "separatevars                     function                  <function separatevars at 0x7348161c45e0>\n",
      "sequence                         function                  <function sequence at 0x7348162e98a0>\n",
      "series                           function                  <function series at 0x7348162e9300>\n",
      "seterr                           function                  <function seterr at 0x734816eec7c0>\n",
      "sfield                           function                  <function sfield at 0x7348162c1ee0>\n",
      "shape                            function                  <function shape at 0x734816368220>\n",
      "sieve                            Sieve                     <prime sieve (6): 2, 3, 5<...>(6): 0, 1, -1, ... 0, -1>\n",
      "sift                             function                  <function sift at 0x734816fbf1a0>\n",
      "sign                             FunctionClass             sign\n",
      "signsimp                         function                  <function signsimp at 0x734816021080>\n",
      "simplify                         function                  <function simplify at 0x734816021440>\n",
      "simplify_logic                   function                  <function simplify_logic at 0x734816c0ee80>\n",
      "sin                              FunctionClass             sin\n",
      "sinc                             FunctionClass             sinc\n",
      "sine_transform                   function                  <function sine_transform at 0x734816198c20>\n",
      "singularities                    function                  <function singularities at 0x7348162c9760>\n",
      "singularityintegrate             function                  <function singularityintegrate at 0x7348161be7a0>\n",
      "sinh                             FunctionClass             sinh\n",
      "smtlib_code                      function                  <function smtlib_code at 0x7348169d1080>\n",
      "solve                            function                  <function solve at 0x734816026480>\n",
      "solve_linear                     function                  <function solve_linear at 0x7348160267a0>\n",
      "solve_linear_system              function                  <function solve_linear_system at 0x7348160268e0>\n",
      "solve_linear_system_LU           function                  <function solve_linear_sy<...>tem_LU at 0x734816026a20>\n",
      "solve_poly_inequality            function                  <function solve_poly_ineq<...>uality at 0x734815f14220>\n",
      "solve_poly_system                function                  <function solve_poly_system at 0x734816025940>\n",
      "solve_rational_inequalities      function                  <function solve_rational_<...>lities at 0x734815f14360>\n",
      "solve_triangulated               function                  <function solve_triangulated at 0x734816025b20>\n",
      "solve_undetermined_coeffs        function                  <function solve_undetermi<...>coeffs at 0x734816026980>\n",
      "solve_univariate_inequality      function                  <function solve_univariat<...>uality at 0x734815f145e0>\n",
      "solveset                         function                  <function solveset at 0x73481606e520>\n",
      "sqf                              function                  <function sqf at 0x734816aa3b00>\n",
      "sqf_list                         function                  <function sqf_list at 0x734816aa3a60>\n",
      "sqf_norm                         function                  <function sqf_norm at 0x734816aa3380>\n",
      "sqf_part                         function                  <function sqf_part at 0x734816aa3420>\n",
      "sqrt                             function                  <function sqrt at 0x7348168c7f60>\n",
      "sqrt_mod                         function                  <function sqrt_mod at 0x734816af0900>\n",
      "sqrt_mod_iter                    function                  <function sqrt_mod_iter at 0x734816af09a0>\n",
      "sqrtdenest                       function                  <function sqrtdenest at 0x7348160099e0>\n",
      "srepr                            _PrintFunction            <sympy.printing.printer._<...>object at 0x734816820170>\n",
      "sring                            function                  <function sring at 0x7348165c3b00>\n",
      "sstr                             _PrintFunction            <sympy.printing.printer._<...>object at 0x7348169a1400>\n",
      "sstrrepr                         _PrintFunction            <sympy.printing.printer._<...>object at 0x734816932710>\n",
      "stationary_points                function                  <function stationary_points at 0x7348162cbc40>\n",
      "stieltjes                        FunctionClass             stieltjes\n",
      "strategies                       module                    <module 'sympy.strategies<...>/strategies/__init__.py'>\n",
      "sturm                            function                  <function sturm at 0x734816aa31a0>\n",
      "subfactorial                     FunctionClass             subfactorial\n",
      "subresultants                    function                  <function subresultants at 0x734816aa2840>\n",
      "subsets                          function                  <function subsets at 0x734816fbef20>\n",
      "substitution                     function                  <function substitution at 0x73481606eac0>\n",
      "summation                        function                  <function summation at 0x73481613a0c0>\n",
      "swinnerton_dyer_poly             function                  <function swinnerton_dyer_poly at 0x734816aa9800>\n",
      "symarray                         function                  <function symarray at 0x7348163fbce0>\n",
      "symbols                          function                  <function symbols at 0x734816d48cc0>\n",
      "symmetric_poly                   function                  <function symmetric_poly at 0x734816aa9bc0>\n",
      "symmetrize                       function                  <function symmetrize at 0x734816aa9300>\n",
      "sympify                          function                  <function sympify at 0x734816ff8040>\n",
      "t                                Symbol                    t\n",
      "take                             function                  <function take at 0x734816fbf240>\n",
      "tan                              FunctionClass             tan\n",
      "tanh                             FunctionClass             tanh\n",
      "tensor                           module                    <module 'sympy.tensor' fr<...>ympy/tensor/__init__.py'>\n",
      "tensorcontraction                function                  <function tensorcontraction at 0x7348163804a0>\n",
      "tensordiagonal                   function                  <function tensordiagonal at 0x734816380540>\n",
      "tensorproduct                    function                  <function tensorproduct at 0x734816380360>\n",
      "terms_gcd                        function                  <function terms_gcd at 0x734816aa2d40>\n",
      "test                             LazyFunction              <function test at 0x7347d3eea200>\n",
      "textplot                         function                  <function textplot at 0x734815e24c20>\n",
      "threaded                         function                  <function threaded at 0x734816fbde40>\n",
      "timed                            function                  <function timed at 0x734816fda980>\n",
      "to_cnf                           function                  <function to_cnf at 0x734816c0dbc0>\n",
      "to_dnf                           function                  <function to_dnf at 0x734816c0dc60>\n",
      "to_nnf                           function                  <function to_nnf at 0x734816c0db20>\n",
      "to_number_field                  function                  <function to_number_field at 0x734816425620>\n",
      "together                         function                  <function together at 0x734816a91760>\n",
      "topological_sort                 function                  <function topological_sort at 0x734816fbf600>\n",
      "total_degree                     function                  <function total_degree at 0x734816aa1e40>\n",
      "totient                          FunctionClass             totient\n",
      "trace                            function                  <function trace at 0x73481627e340>\n",
      "trailing                         function                  <function trailing at 0x734816eab560>\n",
      "transpose                        FunctionClass             transpose\n",
      "tribonacci                       FunctionClass             tribonacci\n",
      "trigamma                         FunctionClass             trigamma\n",
      "trigsimp                         function                  <function trigsimp at 0x7348160202c0>\n",
      "true                             BooleanTrue               True\n",
      "trunc                            function                  <function trunc at 0x734816aa2de0>\n",
      "unbranched_argument              function                  <function unbranched_argument at 0x7348168c7600>\n",
      "unflatten                        function                  <function unflatten at 0x734816fbda80>\n",
      "unpolarify                       function                  <function unpolarify at 0x734816734180>\n",
      "uppergamma                       FunctionClass             uppergamma\n",
      "use                              function                  <function use at 0x734816e59120>\n",
      "utilities                        module                    <module 'sympy.utilities'<...>y/utilities/__init__.py'>\n",
      "var                              function                  <function var at 0x734816c19f80>\n",
      "variations                       function                  <function variations at 0x734816fbee80>\n",
      "vectorize                        type                      <class 'sympy.core.multidimensional.vectorize'>\n",
      "vfield                           function                  <function vfield at 0x7348162c1e40>\n",
      "viete                            function                  <function viete at 0x7348165db7e0>\n",
      "vring                            function                  <function vring at 0x7348165c3a60>\n",
      "wronskian                        function                  <function wronskian at 0x7348162102c0>\n",
      "x                                Symbol                    x\n",
      "xfield                           function                  <function xfield at 0x7348162c1da0>\n",
      "xring                            function                  <function xring at 0x7348165c25c0>\n",
      "xthreaded                        function                  <function xthreaded at 0x734816fbe5c0>\n",
      "y                                Symbol                    y\n",
      "yn                               FunctionClass             yn\n",
      "z                                Symbol                    z\n",
      "zeros                            function                  <function zeros at 0x734816210360>\n",
      "zeta                             FunctionClass             zeta\n",
      "zoo                              ComplexInfinity           zoo\n"
     ]
    }
   ],
   "source": [
    "#look what sympy.init_session() does...\n",
    "%whos"
   ]
  },
  {
   "cell_type": "code",
   "execution_count": 6,
   "metadata": {},
   "outputs": [
    {
     "data": {
      "image/png": "[encoded data removed]",
      "text/latex": [
       "$\\displaystyle x^{2}$"
      ],
      "text/plain": [
       " 2\n",
       "x "
      ]
     },
     "execution_count": 6,
     "metadata": {},
     "output_type": "execute_result"
    }
   ],
   "source": [
    "# a note on expressions. \n",
    "# you can enter an expression as a string,\n",
    "# provided you pass it into sympy.sympify()\n",
    "expr = sympify('x**2')\n",
    "expr"
   ]
  },
  {
   "cell_type": "markdown",
   "metadata": {},
   "source": [
    "## algebra"
   ]
  },
  {
   "cell_type": "code",
   "execution_count": 7,
   "metadata": {},
   "outputs": [
    {
     "data": {
      "image/png": "[encoded data removed]",
      "text/latex": [
       "$\\displaystyle x^{2} - y^{2}$"
      ],
      "text/plain": [
       " 2    2\n",
       "x  - y "
      ]
     },
     "execution_count": 7,
     "metadata": {},
     "output_type": "execute_result"
    }
   ],
   "source": [
    "# let's start factoring and expanding algebraic expressions\n",
    "expr = x**2 - y**2\n",
    "expr"
   ]
  },
  {
   "cell_type": "code",
   "execution_count": 8,
   "metadata": {},
   "outputs": [
    {
     "data": {
      "image/png": "[encoded data removed]",
      "text/latex": [
       "$\\displaystyle \\left(x - y\\right) \\left(x + y\\right)$"
      ],
      "text/plain": [
       "(x - y)⋅(x + y)"
      ]
     },
     "execution_count": 8,
     "metadata": {},
     "output_type": "execute_result"
    }
   ],
   "source": [
    "factor(expr)"
   ]
  },
  {
   "cell_type": "code",
   "execution_count": 9,
   "metadata": {},
   "outputs": [
    {
     "name": "stdout",
     "output_type": "stream",
     "text": [
      "       3\n",
      "(x + y) \n"
     ]
    },
    {
     "data": {
      "image/png": "[encoded data removed]",
      "text/latex": [
       "$\\displaystyle x^{3} + 3 x^{2} y + 3 x y^{2} + y^{3}$"
      ],
      "text/plain": [
       " 3      2          2    3\n",
       "x  + 3⋅x ⋅y + 3⋅x⋅y  + y "
      ]
     },
     "execution_count": 9,
     "metadata": {},
     "output_type": "execute_result"
    }
   ],
   "source": [
    "expr = x**3 + 3*x**2*y + 3*x*y**2 + y**3\n",
    "factors = factor(expr)\n",
    "pprint(factors) # show the factors of the expression\n",
    "expand(factors) # now expand the factors expression"
   ]
  },
  {
   "cell_type": "code",
   "execution_count": 10,
   "metadata": {},
   "outputs": [
    {
     "data": {
      "image/png": "[encoded data removed]",
      "text/latex": [
       "$\\displaystyle 27$"
      ],
      "text/plain": [
       "27"
      ]
     },
     "execution_count": 10,
     "metadata": {},
     "output_type": "execute_result"
    }
   ],
   "source": [
    "# we can substitute values into a sympy expression\n",
    "expr.subs({x:1, y:2})"
   ]
  },
  {
   "cell_type": "code",
   "execution_count": 11,
   "metadata": {},
   "outputs": [
    {
     "data": {
      "image/png": "[encoded data removed]",
      "text/latex": [
       "$\\displaystyle y^{3} + 3 y^{2} + 3 y + 1$"
      ],
      "text/plain": [
       " 3      2          \n",
       "y  + 3⋅y  + 3⋅y + 1"
      ]
     },
     "execution_count": 11,
     "metadata": {},
     "output_type": "execute_result"
    }
   ],
   "source": [
    "# we can substitute values for just some of the variables in the expression\n",
    "expr.subs({x:1})"
   ]
  },
  {
   "cell_type": "code",
   "execution_count": 12,
   "metadata": {},
   "outputs": [
    {
     "data": {
      "image/png": "[encoded data removed]",
      "text/latex": [
       "$\\displaystyle 1$"
      ],
      "text/plain": [
       "1"
      ]
     },
     "execution_count": 12,
     "metadata": {},
     "output_type": "execute_result"
    }
   ],
   "source": [
    "# we can substitute expressions for variables in the expression, and solve\n",
    "expr = x*x + x*y + x*y + y*y\n",
    "simplify(expr.subs({x:1-y}))"
   ]
  },
  {
   "cell_type": "code",
   "execution_count": 13,
   "metadata": {},
   "outputs": [
    {
     "data": {
      "image/png": "[encoded data removed]",
      "text/latex": [
       "$\\displaystyle \\left[ 7 y + 5\\right]$"
      ],
      "text/plain": [
       "[7⋅y + 5]"
      ]
     },
     "execution_count": 13,
     "metadata": {},
     "output_type": "execute_result"
    }
   ],
   "source": [
    "# sympy has several solvers for finding solutions to equations.\n",
    "expr = x - 5 - 7*y\n",
    "solve(expr, x)"
   ]
  },
  {
   "cell_type": "code",
   "execution_count": 14,
   "metadata": {},
   "outputs": [
    {
     "data": {
      "image/png": "[encoded data removed]",
      "text/latex": [
       "$\\displaystyle a x^{2} + b x + c$"
      ],
      "text/plain": [
       "   2          \n",
       "a⋅x  + b⋅x + c"
      ]
     },
     "execution_count": 14,
     "metadata": {},
     "output_type": "execute_result"
    }
   ],
   "source": [
    "# the quadratic equation\n",
    "a, b, c = symbols('a b c')\n",
    "expr = a * x**2 + b * x + c\n",
    "expr"
   ]
  },
  {
   "cell_type": "code",
   "execution_count": 15,
   "metadata": {},
   "outputs": [
    {
     "data": {
      "image/png": "[encoded data removed]",
      "text/latex": [
       "$\\displaystyle \\left[ \\frac{- b - \\sqrt{- 4 a c + b^{2}}}{2 a}, \\  \\frac{- b + \\sqrt{- 4 a c + b^{2}}}{2 a}\\right]$"
      ],
      "text/plain": [
       "⎡        _____________          _____________⎤\n",
       "⎢       ╱           2          ╱           2 ⎥\n",
       "⎢-b - ╲╱  -4⋅a⋅c + b    -b + ╲╱  -4⋅a⋅c + b  ⎥\n",
       "⎢─────────────────────, ─────────────────────⎥\n",
       "⎣         2⋅a                    2⋅a         ⎦"
      ]
     },
     "execution_count": 15,
     "metadata": {},
     "output_type": "execute_result"
    }
   ],
   "source": [
    "# solving the quadratic equation\n",
    "ans = solve(expr, x)\n",
    "ans"
   ]
  },
  {
   "cell_type": "code",
   "execution_count": 16,
   "metadata": {},
   "outputs": [
    {
     "data": {
      "text/plain": [
       "list"
      ]
     },
     "execution_count": 16,
     "metadata": {},
     "output_type": "execute_result"
    }
   ],
   "source": [
    "type(ans)"
   ]
  },
  {
   "cell_type": "markdown",
   "metadata": {},
   "source": [
    "## linear algebra"
   ]
  },
  {
   "cell_type": "code",
   "execution_count": 17,
   "metadata": {},
   "outputs": [
    {
     "data": {
      "image/png": "[encoded data removed]",
      "text/latex": [
       "$\\displaystyle \\left[\\begin{matrix}x & y\\\\z & t\\end{matrix}\\right]$"
      ],
      "text/plain": [
       "⎡x  y⎤\n",
       "⎢    ⎥\n",
       "⎣z  t⎦"
      ]
     },
     "metadata": {},
     "output_type": "display_data"
    }
   ],
   "source": [
    "M = Matrix([[x, y], [z, t]])\n",
    "display(M)"
   ]
  },
  {
   "cell_type": "code",
   "execution_count": 18,
   "metadata": {},
   "outputs": [
    {
     "data": {
      "image/png": "[encoded data removed]",
      "text/latex": [
       "$\\displaystyle \\left[\\begin{matrix}a\\\\b\\end{matrix}\\right]$"
      ],
      "text/plain": [
       "⎡a⎤\n",
       "⎢ ⎥\n",
       "⎣b⎦"
      ]
     },
     "execution_count": 18,
     "metadata": {},
     "output_type": "execute_result"
    }
   ],
   "source": [
    "a, b = symbols('a b')\n",
    "colV = Matrix([a, b])\n",
    "colV"
   ]
  },
  {
   "cell_type": "code",
   "execution_count": 19,
   "metadata": {},
   "outputs": [
    {
     "data": {
      "image/png": "[encoded data removed]",
      "text/latex": [
       "$\\displaystyle \\left[\\begin{matrix}a x + b y\\\\a z + b t\\end{matrix}\\right]$"
      ],
      "text/plain": [
       "⎡a⋅x + b⋅y⎤\n",
       "⎢         ⎥\n",
       "⎣a⋅z + b⋅t⎦"
      ]
     },
     "execution_count": 19,
     "metadata": {},
     "output_type": "execute_result"
    }
   ],
   "source": [
    "M * colV"
   ]
  },
  {
   "cell_type": "code",
   "execution_count": 20,
   "metadata": {},
   "outputs": [
    {
     "data": {
      "image/png": "[encoded data removed]",
      "text/latex": [
       "$\\displaystyle t x - y z$"
      ],
      "text/plain": [
       "t⋅x - y⋅z"
      ]
     },
     "execution_count": 20,
     "metadata": {},
     "output_type": "execute_result"
    }
   ],
   "source": [
    "M.det()"
   ]
  },
  {
   "cell_type": "code",
   "execution_count": 21,
   "metadata": {},
   "outputs": [
    {
     "data": {
      "image/png": "[encoded data removed]",
      "text/latex": [
       "$\\displaystyle \\left[\\begin{matrix}1 & 2 & 3\\\\4 & 5 & 6\\end{matrix}\\right]$"
      ],
      "text/plain": [
       "⎡1  2  3⎤\n",
       "⎢       ⎥\n",
       "⎣4  5  6⎦"
      ]
     },
     "execution_count": 21,
     "metadata": {},
     "output_type": "execute_result"
    }
   ],
   "source": [
    "Matrix(2, 3, [1, 2, 3, 4, 5, 6])"
   ]
  },
  {
   "cell_type": "code",
   "execution_count": 22,
   "metadata": {},
   "outputs": [
    {
     "data": {
      "image/png": "[encoded data removed]",
      "text/latex": [
       "$\\displaystyle \\left[\\begin{matrix}2 & 3 & 5\\\\3 & 6 & 2\\\\8 & 3 & 6\\end{matrix}\\right]$"
      ],
      "text/plain": [
       "⎡2  3  5⎤\n",
       "⎢       ⎥\n",
       "⎢3  6  2⎥\n",
       "⎢       ⎥\n",
       "⎣8  3  6⎦"
      ]
     },
     "metadata": {},
     "output_type": "display_data"
    },
    {
     "data": {
      "image/png": "[encoded data removed]",
      "text/latex": [
       "$\\displaystyle \\left[\\begin{matrix}3\\\\7\\\\5\\end{matrix}\\right]$"
      ],
      "text/plain": [
       "⎡3⎤\n",
       "⎢ ⎥\n",
       "⎢7⎥\n",
       "⎢ ⎥\n",
       "⎣5⎦"
      ]
     },
     "metadata": {},
     "output_type": "display_data"
    },
    {
     "data": {
      "image/png": "[encoded data removed]",
      "text/latex": [
       "$\\displaystyle \\left[\\begin{matrix}52\\\\61\\\\75\\end{matrix}\\right]$"
      ],
      "text/plain": [
       "⎡52⎤\n",
       "⎢  ⎥\n",
       "⎢61⎥\n",
       "⎢  ⎥\n",
       "⎣75⎦"
      ]
     },
     "metadata": {},
     "output_type": "display_data"
    },
    {
     "data": {
      "image/png": "[encoded data removed]",
      "text/latex": [
       "$\\displaystyle \\left[\\begin{matrix}3\\\\7\\\\5\\end{matrix}\\right]$"
      ],
      "text/plain": [
       "⎡3⎤\n",
       "⎢ ⎥\n",
       "⎢7⎥\n",
       "⎢ ⎥\n",
       "⎣5⎦"
      ]
     },
     "execution_count": 22,
     "metadata": {},
     "output_type": "execute_result"
    }
   ],
   "source": [
    "A = Matrix([ [2, 3, 5], [3, 6, 2], [8, 3, 6] ])\n",
    "display(A)\n",
    "x = Matrix(3,1,[3,7,5])\n",
    "display(x)\n",
    "b = A*x\n",
    "display(b)\n",
    "soln = A.LUsolve(b)\n",
    "soln"
   ]
  },
  {
   "cell_type": "markdown",
   "metadata": {},
   "source": [
    "# calculus"
   ]
  },
  {
   "cell_type": "code",
   "execution_count": 23,
   "metadata": {},
   "outputs": [],
   "source": [
    "''' In the linear algebra section, we set the value of x to be a Matrix object.\n",
    "'''\n",
    "x = symbols('x') # re-initialize x "
   ]
  },
  {
   "cell_type": "code",
   "execution_count": 24,
   "metadata": {},
   "outputs": [
    {
     "data": {
      "image/png": "[encoded data removed]",
      "text/latex": [
       "$\\displaystyle \\lim_{x \\to 0^+}\\left(\\frac{\\sin{\\left(x \\right)}}{x}\\right)$"
      ],
      "text/plain": [
       "     ⎛sin(x)⎞\n",
       " lim ⎜──────⎟\n",
       "x─→0⁺⎝  x   ⎠"
      ]
     },
     "execution_count": 24,
     "metadata": {},
     "output_type": "execute_result"
    }
   ],
   "source": [
    "Limit(sin(x)/x, x, 0)"
   ]
  },
  {
   "cell_type": "code",
   "execution_count": 25,
   "metadata": {},
   "outputs": [
    {
     "data": {
      "image/png": "[encoded data removed]",
      "text/latex": [
       "$\\displaystyle 1$"
      ],
      "text/plain": [
       "1"
      ]
     },
     "execution_count": 25,
     "metadata": {},
     "output_type": "execute_result"
    }
   ],
   "source": [
    "limit(sin(x)/x, x, 0)"
   ]
  },
  {
   "cell_type": "code",
   "execution_count": 26,
   "metadata": {},
   "outputs": [
    {
     "data": {
      "image/png": "[encoded data removed]",
      "text/latex": [
       "$\\displaystyle \\frac{d}{d x} e^{x^{2}}$"
      ],
      "text/plain": [
       "  ⎛ ⎛ 2⎞⎞\n",
       "d ⎜ ⎝x ⎠⎟\n",
       "──⎝ℯ    ⎠\n",
       "dx       "
      ]
     },
     "execution_count": 26,
     "metadata": {},
     "output_type": "execute_result"
    }
   ],
   "source": [
    "Derivative(exp(x**2), x)"
   ]
  },
  {
   "cell_type": "code",
   "execution_count": 27,
   "metadata": {},
   "outputs": [
    {
     "data": {
      "image/png": "[encoded data removed]",
      "text/latex": [
       "$\\displaystyle 2 x e^{x^{2}}$"
      ],
      "text/plain": [
       "     ⎛ 2⎞\n",
       "     ⎝x ⎠\n",
       "2⋅x⋅ℯ    "
      ]
     },
     "execution_count": 27,
     "metadata": {},
     "output_type": "execute_result"
    }
   ],
   "source": [
    "diff(exp(x**2), x)"
   ]
  },
  {
   "cell_type": "code",
   "execution_count": 28,
   "metadata": {},
   "outputs": [
    {
     "data": {
      "image/png": "[encoded data removed]",
      "text/latex": [
       "$\\displaystyle \\int\\limits_{0}^{10} \\log{\\left(x \\right)}^{2}\\, dx$"
      ],
      "text/plain": [
       "10           \n",
       "⌠            \n",
       "⎮     2      \n",
       "⎮  log (x) dx\n",
       "⌡            \n",
       "0            "
      ]
     },
     "execution_count": 28,
     "metadata": {},
     "output_type": "execute_result"
    }
   ],
   "source": [
    "expr = Integral(log(x)**2, (x, 0, 10))\n",
    "expr"
   ]
  },
  {
   "cell_type": "code",
   "execution_count": 29,
   "metadata": {},
   "outputs": [
    {
     "data": {
      "image/png": "[encoded data removed]",
      "text/latex": [
       "$\\displaystyle - 20 \\log{\\left(10 \\right)} + 20 + 10 \\log{\\left(10 \\right)}^{2}$"
      ],
      "text/plain": [
       "                         2    \n",
       "-20⋅log(10) + 20 + 10⋅log (10)"
      ]
     },
     "execution_count": 29,
     "metadata": {},
     "output_type": "execute_result"
    }
   ],
   "source": [
    "expr.doit()"
   ]
  },
  {
   "cell_type": "code",
   "execution_count": 30,
   "metadata": {},
   "outputs": [
    {
     "data": {
      "image/png": "[encoded data removed]",
      "text/latex": [
       "$\\displaystyle x \\log{\\left(x \\right)}^{2} - 2 x \\log{\\left(x \\right)} + 2 x$"
      ],
      "text/plain": [
       "     2                      \n",
       "x⋅log (x) - 2⋅x⋅log(x) + 2⋅x"
      ]
     },
     "execution_count": 30,
     "metadata": {},
     "output_type": "execute_result"
    }
   ],
   "source": [
    "Integral(log(x)**2,x ).doit()"
   ]
  },
  {
   "cell_type": "markdown",
   "metadata": {},
   "source": [
    "## plotting"
   ]
  },
  {
   "cell_type": "code",
   "execution_count": 31,
   "metadata": {},
   "outputs": [],
   "source": [
    "import matplotlib.pyplot as plt\n",
    "from sympy.plotting import plot\n",
    "x = symbols('x')"
   ]
  },
  {
   "cell_type": "code",
   "execution_count": 32,
   "metadata": {},
   "outputs": [
    {
     "data": {
      "image/png": "[encoded data removed]",
      "text/plain": [
       "<Figure size 640x480 with 1 Axes>"
      ]
     },
     "metadata": {},
     "output_type": "display_data"
    }
   ],
   "source": [
    "p1 = plot(x*x, (x, -10, 10))"
   ]
  },
  {
   "cell_type": "code",
   "execution_count": 33,
   "metadata": {},
   "outputs": [
    {
     "data": {
      "image/png": "[encoded data removed]",
      "text/plain": [
       "<Figure size 640x480 with 1 Axes>"
      ]
     },
     "metadata": {},
     "output_type": "display_data"
    }
   ],
   "source": [
    "p2 = plot(x, (x, -10, 10))"
   ]
  },
  {
   "cell_type": "code",
   "execution_count": 34,
   "metadata": {},
   "outputs": [
    {
     "data": {
      "image/png": "[encoded data removed]",
      "text/plain": [
       "<Figure size 640x480 with 1 Axes>"
      ]
     },
     "metadata": {},
     "output_type": "display_data"
    }
   ],
   "source": [
    "p3 = plot(sin(x), (x, -10, 10))"
   ]
  },
  {
   "cell_type": "code",
   "execution_count": 35,
   "metadata": {},
   "outputs": [
    {
     "data": {
      "image/png": "[encoded data removed]",
      "text/plain": [
       "<Figure size 640x480 with 1 Axes>"
      ]
     },
     "metadata": {},
     "output_type": "display_data"
    },
    {
     "data": {
      "text/plain": [
       "<sympy.plotting.backends.matplotlibbackend.matplotlib.MatplotlibBackend at 0x734796f9df90>"
      ]
     },
     "execution_count": 35,
     "metadata": {},
     "output_type": "execute_result"
    }
   ],
   "source": [
    "plot(x, x**2, x**3, (x, -10, 10))"
   ]
  },
  {
   "cell_type": "markdown",
   "metadata": {},
   "source": [
    "## diff-eq"
   ]
  },
  {
   "cell_type": "code",
   "execution_count": 36,
   "metadata": {},
   "outputs": [
    {
     "data": {
      "text/html": [
       "\n",
       "        <iframe\n",
       "            width=\"100%\"\n",
       "            height=\"500\"\n",
       "            src=\"http://www.cfm.brown.edu/people/dobrush/am33/SymPy/index.html\"\n",
       "            frameborder=\"0\"\n",
       "            allowfullscreen\n",
       "            \n",
       "        ></iframe>\n",
       "        "
      ],
      "text/plain": [
       "<IPython.lib.display.IFrame at 0x734796e5f4d0>"
      ]
     },
     "execution_count": 36,
     "metadata": {},
     "output_type": "execute_result"
    }
   ],
   "source": [
    "# SymPy TUTORIAL for the First Course in Applied Differential Equations \n",
    "IFrame('http://www.cfm.brown.edu/people/dobrush/am33/SymPy/index.html', width='100%', height=500) "
   ]
  },
  {
   "cell_type": "code",
   "execution_count": 37,
   "metadata": {},
   "outputs": [
    {
     "data": {
      "image/png": "[encoded data removed]",
      "text/latex": [
       "$\\displaystyle \\frac{d}{d t} y{\\left(t \\right)} = - \\lambda y{\\left(t \\right)}$"
      ],
      "text/plain": [
       "d                 \n",
       "──(y(t)) = -λ⋅y(t)\n",
       "dt                "
      ]
     },
     "execution_count": 37,
     "metadata": {},
     "output_type": "execute_result"
    }
   ],
   "source": [
    "# diff eq example\n",
    "\n",
    "t, l = symbols('t lambda')\n",
    "y = Function('y')(t)\n",
    "dydt = y.diff(t)\n",
    "expr = Eq(dydt, -l*y)\n",
    "expr"
   ]
  },
  {
   "cell_type": "code",
   "execution_count": 38,
   "metadata": {},
   "outputs": [
    {
     "data": {
      "image/png": "[encoded data removed]",
      "text/latex": [
       "$\\displaystyle y{\\left(t \\right)} = C_{1} e^{- \\lambda t}$"
      ],
      "text/plain": [
       "           -λ⋅t\n",
       "y(t) = C₁⋅ℯ    "
      ]
     },
     "execution_count": 38,
     "metadata": {},
     "output_type": "execute_result"
    }
   ],
   "source": [
    "dsolve(expr)"
   ]
  },
  {
   "cell_type": "code",
   "execution_count": null,
   "metadata": {},
   "outputs": [],
   "source": []
  }
 ],
 "metadata": {
  "kernelspec": {
   "display_name": "Python 3 (ipykernel)",
   "language": "python",
   "name": "python3"
  },
  "language_info": {
   "codemirror_mode": {
    "name": "ipython",
    "version": 3
   },
   "file_extension": ".py",
   "mimetype": "text/x-python",
   "name": "python",
   "nbconvert_exporter": "python",
   "pygments_lexer": "ipython3",
   "version": "3.13.3"
  }
 },
 "nbformat": 4,
 "nbformat_minor": 4
}
